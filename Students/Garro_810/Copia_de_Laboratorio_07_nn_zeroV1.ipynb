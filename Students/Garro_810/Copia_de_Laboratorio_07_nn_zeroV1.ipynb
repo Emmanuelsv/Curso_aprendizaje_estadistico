{
  "cells": [
    {
      "cell_type": "markdown",
      "metadata": {
        "id": "BNyR9aGFsh3x"
      },
      "source": [
        "<a href=\"https://colab.research.google.com/github/hernansalinas/Curso_aprendizaje_estadistico/blob/main/Assesment/Laboratorio_07_nn_zeroV1.ipynb\" target=\"_parent\"><img src=\"https://colab.research.google.com/assets/colab-badge.svg\" alt=\"Open In Colab\"/></a>"
      ]
    },
    {
      "cell_type": "code",
      "execution_count": 62,
      "metadata": {
        "id": "UG0R-DxjnBhn"
      },
      "outputs": [],
      "source": [
        "import pandas as pd\n",
        "import scipy as sc\n",
        "import numpy as np\n",
        "import h5py\n",
        "import matplotlib.pylab as plt"
      ]
    },
    {
      "cell_type": "code",
      "execution_count": 63,
      "metadata": {
        "id": "u3DbUInju5bB"
      },
      "outputs": [],
      "source": [
        "data_train= \"train_catvnoncat.h5\"\n",
        "train_dataset = h5py.File(data_train, \"r\")\n",
        "\n",
        "data_test= \"test_catvnoncat.h5\"\n",
        "test_dataset = h5py.File(data_test, \"r\")\n"
      ]
    },
    {
      "cell_type": "code",
      "source": [
        "#n=len(xtrain_[208])=12288\n",
        "#nn.append(layer)\n",
        "#np.shape nn.theta"
      ],
      "metadata": {
        "id": "9uhb1wOIspzQ"
      },
      "execution_count": 64,
      "outputs": []
    },
    {
      "cell_type": "code",
      "execution_count": 65,
      "metadata": {
        "id": "vXXeE1af2OJx",
        "colab": {
          "base_uri": "https://localhost:8080/"
        },
        "outputId": "fcf7ebf3-a15e-4473-9386-e4a4c2af9952"
      },
      "outputs": [
        {
          "output_type": "execute_result",
          "data": {
            "text/plain": [
              "<KeysViewHDF5 ['list_classes', 'train_set_x', 'train_set_y']>"
            ]
          },
          "metadata": {},
          "execution_count": 65
        }
      ],
      "source": [
        "train_dataset.keys()"
      ]
    },
    {
      "cell_type": "code",
      "execution_count": 66,
      "metadata": {
        "id": "-1hat8N62M4e"
      },
      "outputs": [],
      "source": [
        "# Read the data\n",
        "xtrain_classes, xtrain, train_label =\\\n",
        "train_dataset[\"list_classes\"],train_dataset[\"train_set_x\"],train_dataset[\"train_set_y\"]\n",
        "\n",
        "test_classes, xtest,test_label =\\\n",
        "test_dataset[\"list_classes\"],test_dataset[\"test_set_x\"],test_dataset[\"test_set_y\"]\n"
      ]
    },
    {
      "cell_type": "code",
      "execution_count": 67,
      "metadata": {
        "colab": {
          "base_uri": "https://localhost:8080/"
        },
        "id": "d2mgfnsTvC2a",
        "outputId": "65b10278-df00-4ff1-ef0b-2d29ef7b1266"
      },
      "outputs": [
        {
          "output_type": "execute_result",
          "data": {
            "text/plain": [
              "(209, 64, 64, 3)"
            ]
          },
          "metadata": {},
          "execution_count": 67
        }
      ],
      "source": [
        "np.shape(xtrain)\n",
        "#209 images with a matrix in 3D 64*64*3"
      ]
    },
    {
      "cell_type": "code",
      "execution_count": 68,
      "metadata": {
        "colab": {
          "base_uri": "https://localhost:8080/",
          "height": 450
        },
        "id": "qC1DrIWiu--B",
        "outputId": "822db208-faa3-4676-dcff-c4ab2e5febca"
      },
      "outputs": [
        {
          "output_type": "execute_result",
          "data": {
            "text/plain": [
              "<matplotlib.image.AxesImage at 0x7b1e060e9cc0>"
            ]
          },
          "metadata": {},
          "execution_count": 68
        },
        {
          "output_type": "display_data",
          "data": {
            "text/plain": [
              "<Figure size 640x480 with 1 Axes>"
            ],
            "image/png": "[encoded data removed]"
          },
          "metadata": {}
        }
      ],
      "source": [
        "plt.imshow(xtrain[208])"
      ]
    },
    {
      "cell_type": "code",
      "execution_count": 69,
      "metadata": {
        "colab": {
          "base_uri": "https://localhost:8080/"
        },
        "id": "9pxd8cOX4Xk6",
        "outputId": "0297d96f-2dbb-4580-87e1-88cd5fcb5483"
      },
      "outputs": [
        {
          "output_type": "execute_result",
          "data": {
            "text/plain": [
              "(64, 64, 3)"
            ]
          },
          "metadata": {},
          "execution_count": 69
        }
      ],
      "source": [
        "np.shape(xtrain[0])"
      ]
    },
    {
      "cell_type": "code",
      "execution_count": 70,
      "metadata": {
        "colab": {
          "base_uri": "https://localhost:8080/"
        },
        "id": "Du9z2Uxb4cJR",
        "outputId": "e468ff47-6f12-4c3f-e5ed-89551c394ef9"
      },
      "outputs": [
        {
          "output_type": "execute_result",
          "data": {
            "text/plain": [
              "array([17, 31, 56, ...,  0,  0,  0], dtype=uint8)"
            ]
          },
          "metadata": {},
          "execution_count": 70
        }
      ],
      "source": [
        "np.reshape(xtrain[0], 64*64*3)"
      ]
    },
    {
      "cell_type": "code",
      "execution_count": 71,
      "metadata": {
        "id": "vhMaDzC0vVPp",
        "colab": {
          "base_uri": "https://localhost:8080/"
        },
        "outputId": "29ff69b0-46f1-4169-9d4b-1778ee53ca98"
      },
      "outputs": [
        {
          "output_type": "execute_result",
          "data": {
            "text/plain": [
              "(209, 12288)"
            ]
          },
          "metadata": {},
          "execution_count": 71
        }
      ],
      "source": [
        "xtrain= np.reshape(xtrain,(209, 64*64*3))/255 #the matrix in 3D becomes a vector\n",
        "xtest= np.reshape(xtest,(50, 64*64*3))/255\n",
        "#minimum of J when J doesnt variate much from i to i+1\n",
        "np.shape(xtrain)"
      ]
    },
    {
      "cell_type": "code",
      "execution_count": 72,
      "metadata": {
        "colab": {
          "base_uri": "https://localhost:8080/"
        },
        "id": "UADlx19ivW3z",
        "outputId": "458e53cf-c397-4f04-8b23-582d5d9570af"
      },
      "outputs": [
        {
          "output_type": "execute_result",
          "data": {
            "text/plain": [
              "12288"
            ]
          },
          "metadata": {},
          "execution_count": 72
        }
      ],
      "source": [
        "len(xtrain[208])"
      ]
    },
    {
      "cell_type": "code",
      "execution_count": 73,
      "metadata": {
        "colab": {
          "base_uri": "https://localhost:8080/"
        },
        "id": "FeSx2i9B4_f3",
        "outputId": "d4820e6a-c809-4fd8-e174-0ff0c206f680"
      },
      "outputs": [
        {
          "output_type": "execute_result",
          "data": {
            "text/plain": [
              "12288"
            ]
          },
          "metadata": {},
          "execution_count": 73
        }
      ],
      "source": [
        "64*64*3"
      ]
    },
    {
      "cell_type": "markdown",
      "metadata": {
        "id": "i97z3Eofni2T"
      },
      "source": [
        "Construyamos una red neuronal con una capa de entrada, una capa de salida con una red y L-1 redes ocultas.\n",
        "\n",
        "# Con m datos de entrenamientos.\n",
        "\n",
        "Para $m$ datos de entrenamiento, las expresión anteriores pueden ser resumidas en las siguientes ecuaciones\n",
        "\n",
        "\n",
        "\n",
        "\\begin{equation}\n",
        "\\begin{bmatrix}\n",
        "z_1^{(0)}  &z_1^{(1)} & .&.& .&z_1^{(m)}\\\\\n",
        "z_2^{(0)}  &z_2^{(1)} &. &.&  .&z_2^{(m)}\\\\\n",
        ".          & .        &. & &   &.      \\\\\n",
        ".          & .        &  &. &   &.      \\\\\n",
        ".          & .        &  &  & .&      \\\\\n",
        "z_{n^{[l]}}^{(0)}&z_{n^{[l]}}^{(1)} & . & .& .& z_{n^{[l]}}^{(m)}        \\\\\n",
        "\\end{bmatrix}^{[l]}=\n",
        "\\begin{bmatrix}\n",
        "\\theta_{11} & \\theta_{12} & . & .& .& \\theta_{1n^{[l-1]}}\\\\\n",
        "\\theta_{21} & \\theta_{22} & . & .& .& \\theta_{2n^{[l-1]}}\\\\\n",
        ". & .  & . &   & & .\\\\\n",
        ". & .  &   & . & & .\\\\\n",
        ". & .  &   &  & .& .\\\\\n",
        "\\theta_{n^{[l]}1} & \\theta_{n^{[l]}2} & . & .& .& \\theta_{n^{[l]}n^{[l-1]}}\\\\\n",
        "\\end{bmatrix}^{[l]}_{n^{[l]} \\times n^{[l-1]}}\n",
        "\\begin{bmatrix}\n",
        "a_1^{(0)}  &a_1^{(1)} & .&.& .&a_1^{(m)}\\\\\n",
        "a_2^{(0)}  &a_2^{(1)} &. &.&  .&a_2^{(m)}\\\\\n",
        ".          & .        &. & &   &.      \\\\\n",
        ".          & .        &  &. &   &.      \\\\\n",
        ".          & .        &  &  & .&      \\\\\n",
        "a_{n^{[L-1]}}^{(0)}&a_{n^{[L-1]}}^{(1)} & . & .& .& a_{n^{[L-1]}}^{(m)}        \\\\\n",
        "\\end{bmatrix}^{[l-1]} +\n",
        "\\begin{bmatrix}\n",
        "b_1 \\\\\n",
        "b_2 \\\\\n",
        ". \\\\\n",
        ". \\\\\n",
        ". \\\\\n",
        "b_{n^{[l]}}\\\\\n",
        "\\end{bmatrix}^{[l]}\n",
        "\\end{equation}\n",
        "\n",
        "\n",
        "Escrito de una formas mas compacta tenemos que:\n",
        "\n",
        "\n",
        "\\begin{equation}\n",
        "[ \\vec{Z}^{[l](0)},\\vec{Z}^{[l](1)},...,\\vec{Z}^{[l](m)}  ]= \\Theta^{[l]} [\\vec{A}^{[l-1](0)},\\vec{A}^{[l-1](1)},...,\\vec{A}^{[l-1](m)} ]+ \\vec{b}^{[l]}\n",
        "\\end{equation}\n",
        "\n",
        "Aplicando la funcion de activación:\n",
        "\n",
        "\\begin{equation}\n",
        "[\\vec{A}^{[l](0)},\\vec{A}^{[l](1)},...,\\vec{A}^{[l](m)} ]=f([\\vec{Z}^{[l](0)},\\vec{Z}^{[l](1)},...,\\vec{Z}^{[l](m)}  ])\n",
        "\\end{equation}\n",
        "\n",
        "Las dimensiones de las expresiones anteriores, pueden ser resumidas en lo siguiente:\n",
        "\n",
        "$\\mathrm{dim(\\vec{\\cal{Z}}^{[l]})}=n^{[l]}\\times m $\n",
        "\n",
        "$\\mathrm{dim(\\vec{\\Theta}^{[l]})}=n^{[l]}\\times n^{[l-1]}$\n",
        "\n",
        "$\\mathrm{dim(\\vec{\\cal{A}}^{[l]})}=n^{[l-1]}\\times m $\n",
        "\n",
        "$\\mathrm{dim(\\vec{b}^{[l]})}=n^{[l]}$\n",
        "\n",
        "\n"
      ]
    },
    {
      "cell_type": "markdown",
      "metadata": {
        "id": "rfFDqaFihE-d"
      },
      "source": [
        "## Topología de la red.\n",
        "\n",
        "1. Construir un clase  que permita definir una red neuronal con la topología\n",
        "deseada y la función de activación para cada capa, para ello deberá construir una funcion Topology con el número de capas de la red neuronal :\n",
        "\n",
        "Topology = [n_x, n_h1, n_h2, n_h3, ...,n_y]\n",
        "\n",
        "En este caso:\n",
        "- $n^{[0]}=n_x$ seran los valores de entradas de la capa de entrada\n",
        "- $n^{[1]}=n_{h1}$ Primera capa oculta de la red neuronal\n",
        "- $n^{[2]}=n_{h2}$ Segunda capa oculta de la red neuronal\n",
        "\n",
        ".\n",
        "\n",
        ".\n",
        "\n",
        ".\n",
        "\n",
        "\n",
        "- $n^{[l]}=n_{hl}$ Segunda capa oculta de la red neuronal\n",
        ".\n",
        "\n",
        ".\n",
        "\n",
        ".\n",
        "\n",
        "- $n^{[L]}=n_{y}$ Segunda capa oculta de la red neuronal\n",
        "\n",
        "donde\n",
        "\n",
        "- $\\mathrm{n_x}$: valores de entrada\n",
        "- $\\mathrm{n_{h1}}$: hidden layer 1\n",
        "- $\\mathrm{n_{h2}}$: hidden layer 2\n",
        "- $\\mathrm{n_y}$: last layer\n",
        "\n",
        "- $n^{[L]}=n_{y}$ Segunda capa oculta de la red neuronal\n",
        "\n",
        "\n",
        "También definir una lista con las funciones de activaciones para cada capa.\n",
        "\n",
        "\n",
        "activation=[None, relu, relu, relu, ...,sigmoid]\n",
        "\n",
        "  \n",
        "\n",
        "\n",
        "a. Cada unas de las capas deberá tener los parámetros de inicialización de manera aleatoria:\n",
        "\n",
        "\n",
        "La matriz de parametros para cada capa debera tener:\n",
        "\n",
        "\n",
        "$\\mathrm{dim(\\vec{b}^{[l]})}=n^{[l]}$\n",
        "\n",
        "$\\mathrm{dim(\\vec{\\Theta}^{[l]})}=n^{[l]}\\times n^{[l-1]}$\n",
        "\n",
        "Lo anteriores parametros deberán estar en el constructor de la clase.\n",
        "\n",
        "\n",
        "b. Construya un metodo llamado output cuya salida serán los valores de Z y A\n",
        "\n",
        "\n",
        "$\\mathrm{dim(\\vec{\\cal{A}}^{[l]})}=n^{[l-1]}\\times m $\n",
        "\n",
        "$\\mathrm{dim(\\vec{\\cal{Z}}^{[l]})}=n^{[l]}\\times m $."
      ]
    },
    {
      "cell_type": "markdown",
      "metadata": {
        "id": "VYQt5vHfnuEo"
      },
      "source": [
        "\n",
        "\n",
        "Se sugiere para cada capa emplear programación orientada a objetos definida de la siguiente manera:\n",
        "\n",
        "```\n",
        "class layer_nn():\n",
        "  def __init__(self, act_fun, nlayer_present, nlayer_before):\n",
        "    self.theta = 2*np.random.random((nlayer_present, nlayer_before)) - 1\n",
        "    self.B = 2*np.random.random((nlayer_present,1)) - 1\n",
        "    self.act_fun = act_fun\n",
        "\n",
        "  def output(self, Z, A):\n",
        "    self.Z = Z\n",
        "    self.A = A\n",
        "\n",
        "\n",
        "\n",
        "def act_function(x, activation):\n",
        "  if activation==\"sigmoid\":\n",
        "    f = lambda x: 1/(1+np.exp(-x))\n",
        "    fp = f(x)*(1-f(x))\n",
        "    return f, fp\n",
        "  \n",
        "  elif activation == \"tanh\":\n",
        "    f = lambda x: np.tanh\n",
        "    return tanh\n",
        "  else :\n",
        "    return 0\n",
        "```\n",
        "    \n",
        "\n",
        "2. Construir un generalizacion de la red, en el que entrada el valor inicial\n",
        "y la red neuronal completa arroje la salida y la actualizacion de la red con los parametros deseados:\n",
        "\n",
        "  ```\n",
        "  A, nn = forward_pass(A0, nn_red)\n",
        "\n",
        " ```\n",
        "3. Encontrar la funcion de coste.\n",
        "\n",
        "\n",
        "$$-\\frac{1}{m} \\sum\\limits_{i = 1}^{m} (y^{(i)}\\log\\left(a^{[L] (i)}\\right) + (1-y^{(i)})\\log\\left(1- a^{[L](i)}\\right)) \\tag{7}$$\n",
        "\n",
        "\n",
        "4. Construir un codigo que permita realizar el BackwardPropagation\n",
        "\n",
        "\n",
        "# Backward Propagation\n",
        "\n",
        "Para una capa $l$ arbitraria tenemos que:\n",
        "\n",
        "- \\begin{equation}\n",
        "d\\Theta^{[l]} =  d{\\cal Z}^{(i)[l]} Trans(A)^{(i)[l-1]} = dA^{(i)[l]} f'({\\cal Z}^{(i)[l]} ) Trans(A)^{(i)[l-1]}\n",
        "\\end{equation}\n",
        "\n",
        "- \\begin{equation}\n",
        "db^{[l]} =  d{\\cal Z}^{(i)[L]}  = dA^{(i)[l]} f'({\\cal Z}^{(i)[l]} )\n",
        "\\end{equation}\n",
        "```\n",
        "db_L =  m_*np.sum(dZ, axis=1, keepdims=True)\n",
        "```\n",
        "Los valores de dA pueden ser escritos como:\n",
        "- \\begin{equation}\n",
        "dA^{(i)[l-1]} = \\Theta^{l} \\cdot dZ^{(i)[l]}\n",
        "\\end{equation}\n",
        "\n",
        "\n",
        "\n",
        "\n",
        "\n",
        "$ dZ^{[l]} = dA^{[l]} * f'^{[l]} (Z^{[l]}) $\n",
        "$ d\\Theta^{[l]} = \\frac{\\partial \\mathcal{J} }{\\partial \\Theta^{[l]}} = \\frac{1}{m} dZ^{[l]} A^{[l-1] T} \\tag{1}$\n",
        "$ db^{[l]} = \\frac{\\partial \\mathcal{J} }{\\partial b^{[l]}} = \\frac{1}{m} \\sum_{i = 1}^{m} dZ^{[l](i)}\\tag{2}$\n",
        "$ dA^{[l-1]} = \\frac{\\partial \\mathcal{L} }{\\partial A^{[l-1]}} = \\theta^{[l] T} dZ^{[l]} \\tag{3}$\n",
        "\n",
        "\n",
        "Para la capa L esima:\n",
        "\n",
        "```\n",
        "dAL = -(np.divide(Y, A) - np.divide(1 - Y, 1 - A))\n",
        "```\n",
        "\n",
        "# Aplicacion gradiente descendente\n",
        "\n",
        "$$ \\Theta^{[l]} = \\Theta^{[l]} - \\alpha \\text{ } d\\Theta^{[l]} \\tag{16}$$\n",
        "$$ b^{[l]} = b^{[l]} - \\alpha \\text{ } db^{[l]} \\tag{17}$$\n"
      ]
    },
    {
      "cell_type": "markdown",
      "metadata": {
        "id": "lF_qdftyQKR5"
      },
      "source": [
        "# Generalizacion Forward Pass"
      ]
    },
    {
      "cell_type": "markdown",
      "metadata": {
        "id": "JQ4m24HgbRXw"
      },
      "source": [
        "\n",
        "\\begin{equation}\n",
        "[ \\vec{Z}^{[l](0)},\\vec{Z}^{[l](1)},...,\\vec{Z}^{[l](m)}  ]= \\Theta^{[l]} [\\vec{A}^{[l-1](0)},\\vec{A}^{[l-1](1)},...,\\vec{A}^{[l-1](m)} ]+ \\vec{b}^{[l]}\n",
        "\\end{equation}\n"
      ]
    },
    {
      "cell_type": "markdown",
      "metadata": {
        "id": "H44xkI09RzO0"
      },
      "source": [
        "\n",
        "\n",
        "# Backward Propagation\n",
        "\n",
        "Para una capa $l$ arbitraria tenemos que:\n",
        "\n",
        "- \\begin{equation}\n",
        "d\\Theta^{[l]} =  d{\\cal Z}^{(i)[l]} Trans(A)^{(i)[l-1]} = dA^{(i)[l]} f'({\\cal Z}^{(i)[l]} ) Trans(A)^{(i)[l-1]}\n",
        "\\end{equation}\n",
        "\n",
        "- \\begin{equation}\n",
        "db^{[l]} =  d{\\cal Z}^{(i)[L]}  = dA^{(i)[l]} f'({\\cal Z}^{(i)[l]} )\n",
        "\\end{equation}\n",
        "```\n",
        "db_L =  m_*np.sum(dZ, axis=1, keepdims=True)\n",
        "```\n",
        "Los valores de dA pueden ser escritos como:\n",
        "- \\begin{equation}\n",
        "dA^{(i)[l-1]} = \\Theta^{l} \\cdot dZ^{(i)[l]}\n",
        "\\end{equation}\n",
        "\n",
        "\n",
        "\n",
        "\n",
        "\n",
        "$ dZ^{[l]} = dA^{[l]} * f'^{[l]} (Z^{[l]}) $\n",
        "$ d\\Theta^{[l]} = \\frac{\\partial \\mathcal{J} }{\\partial \\Theta^{[l]}} = \\frac{1}{m} dZ^{[l]} A^{[l-1] T} \\tag{1}$\n",
        "$ db^{[l]} = \\frac{\\partial \\mathcal{J} }{\\partial b^{[l]}} = \\frac{1}{m} \\sum_{i = 1}^{m} dZ^{[l](i)}\\tag{2}$\n",
        "$ dA^{[l-1]} = \\frac{\\partial \\mathcal{L} }{\\partial A^{[l-1]}} = \\theta^{[l] T} dZ^{[l]} \\tag{3}$\n",
        "\n",
        "\n",
        "Para la capa L esima:\n",
        "\n",
        "```\n",
        "dAL = -(np.divide(Y, A) - np.divide(1 - Y, 1 - A))\n",
        "```"
      ]
    },
    {
      "cell_type": "markdown",
      "source": [
        "#First try of a neural network"
      ],
      "metadata": {
        "id": "P-WPuURcNi3h"
      }
    },
    {
      "cell_type": "code",
      "source": [
        "class layer_nn():\n",
        "  def __init__(self, act_fun, nlayer_present, nlayer_before):\n",
        "    self.theta = 2*np.random.random((nlayer_present, nlayer_before)) - 1\n",
        "    self.B = 2*np.random.random((nlayer_present,1)) - 1\n",
        "    self.act_fun = act_fun\n",
        "\n",
        "  def output(self, Z, A):\n",
        "    self.Z = Z\n",
        "    self.A = A\n",
        "\n",
        "\n",
        "\n",
        "def act_function(x, activation):\n",
        "  if activation==\"sigmoid\":\n",
        "    f = lambda x: 1/(1+np.exp(-x))\n",
        "    fp = f(x)*(1-f(x))\n",
        "    return f(x), fp\n",
        "\n",
        "  elif activation == \"tanh\":\n",
        "    f = lambda x: np.tanh\n",
        "    return tanh\n",
        "  else :\n",
        "    return 0\n",
        "\n",
        "n=64*64*3#len(xtrain)\n",
        "Topology=[n,4,5,2,1]\n",
        "nn=[]\n",
        "#print(Topology[1:])\n",
        "def forward_pass(xtrain, nn_red):\n",
        "\n",
        "\n",
        "  for i in range(0,len(Topology)-1):\n",
        "    nn_red.append(layer_nn(\"sigmoid\",Topology[i+1],Topology[i]))\n",
        "\n",
        "  print(np.shape(xtrain))\n",
        "  print(np.shape(nn_red[0].theta))\n",
        "  #intialize\n",
        "  Z=nn_red[0].theta@xtrain.T+nn_red[0].B\n",
        "  A,Ap=act_function(Z,nn_red[0].act_fun)\n",
        "  nn_red[0].output(Z,A)\n",
        "\n",
        "  for j in range(1,len(nn_red)):\n",
        "    print(np.shape(A))\n",
        "    print(np.shape(nn_red[0].A))\n",
        "    print(np.shape(nn_red[j].theta))\n",
        "    Z=nn_red[j].theta @ nn_red[j-1].A + nn_red[j].B\n",
        "    A,Ap=act_function(Z,nn_red[j].act_fun)\n",
        "    nn_red[j].output(Z,A) #actualiza la cada j guardando A y Z\n",
        "    print(np.shape(nn_red[j].A))\n",
        "\n",
        "  Y=np.array(train_label)\n",
        "  #for k in range():\n",
        "  #  J=Y[k]*np.log(A[k])+(1-Y[k])*np.log10(1-A[k])\n",
        "  #Jtotal=(-1/n)*J\n",
        "\n",
        "forward_pass(xtrain,nn)\n",
        "#@np.vectorize\n",
        "#hace que una funcion se vuelva vectorial y se le pueda ingresar un arreglo\n",
        "\n",
        "\n",
        "\n"
      ],
      "metadata": {
        "colab": {
          "base_uri": "https://localhost:8080/"
        },
        "id": "qFk_W-Way2Ld",
        "outputId": "f8883425-f258-431e-f296-b52be6ca9779"
      },
      "execution_count": 76,
      "outputs": [
        {
          "output_type": "stream",
          "name": "stdout",
          "text": [
            "(209, 12288)\n",
            "(4, 12288)\n",
            "(4, 209)\n",
            "(4, 209)\n",
            "(5, 4)\n",
            "(5, 209)\n",
            "(5, 209)\n",
            "(4, 209)\n",
            "(2, 5)\n",
            "(2, 209)\n",
            "(2, 209)\n",
            "(4, 209)\n",
            "(1, 2)\n",
            "(1, 209)\n"
          ]
        }
      ]
    },
    {
      "cell_type": "code",
      "source": [],
      "metadata": {
        "id": "E2zRSbuSy3Po"
      },
      "execution_count": 74,
      "outputs": []
    },
    {
      "cell_type": "markdown",
      "source": [],
      "metadata": {
        "id": "2AT_8IQZk4cN"
      }
    },
    {
      "cell_type": "markdown",
      "source": [
        "#Complete code of a Neural Network"
      ],
      "metadata": {
        "id": "qZ7TGk8KNnEM"
      }
    },
    {
      "cell_type": "code",
      "source": [
        "n_x = 12288# -- size of the input layer\n",
        "#n_h = # -- size of the hidden layer\n",
        "n_y = 1# -- size of the output layer\n",
        "\n",
        "\n",
        "class layer_nn():\n",
        "  def __init__(self,act_fun, n_layer_present, n_layer_before ):\n",
        "    self.W = 2*np.random.random((n_layer_before,n_layer_present)) - 1\n",
        "    self.B = 2*np.random.random((n_layer_present,1)) - 1\n",
        "    self.act_fun = act_fun\n",
        "\n",
        "  def output(self, Z,A, Ap):\n",
        "    self.Z = Z\n",
        "    self.A = A\n",
        "    self.Ap = Ap\n",
        "\n",
        "  def derivates(self, dW, db):\n",
        "    self.dW = dW\n",
        "    self.db = db\n",
        "\n",
        "@np.vectorize\n",
        "def relu(x):\n",
        "  if(x>=0):\n",
        "    return x\n",
        "  else :\n",
        "    return 0\n",
        "\n",
        "@np.vectorize\n",
        "def reluP(x):\n",
        "  if(x>=0):\n",
        "    return 1\n",
        "  else :\n",
        "    return 0\n",
        "\n",
        "def sigmoide(x):\n",
        "  f= lambda x: 1/(1+np.exp(-x))\n",
        "  return f(x)\n",
        "\n",
        "def act_function(x, activation):\n",
        "    if activation == \"sigmoid\":\n",
        "        f = sigmoide(x)\n",
        "        fp = sigmoide(x)*(1-sigmoide(x))\n",
        "    elif activation == \"tanh\":\n",
        "        f = lambda x: np.tanh(x)\n",
        "\n",
        "    elif activation == \"relu\":\n",
        "        f = relu(x)\n",
        "        fp = reluP(x)\n",
        "\n",
        "    return f, fp\n",
        "\n",
        "\n",
        "def forward_pass(input, nn_red):\n",
        "  A0 = input\n",
        "  nn_red_update = []\n",
        "\n",
        "  for layer in nn_red:\n",
        "    Z = layer.W.T@A0 + layer.B\n",
        "    A, Ap = act_function(Z, layer.act_fun)\n",
        "    layer.output(Z, A, Ap)\n",
        "    nn_red_update.append(layer)\n",
        "    A0 = A\n",
        "  return A, nn_red_update\n",
        "\n",
        "\n",
        "def cost_Function(A, Y):\n",
        "  m = Y.shape[0]\n",
        "  m_ = 1/m\n",
        "  cost = Y*np.log(A)+(1-Y)*np.log(1-A)\n",
        "  cost = -m_*cost.sum()\n",
        "  return cost\n",
        "\n",
        "\n",
        "def backward_propagation(AL,Y,nn):\n",
        "  L = len(nn) - 1\n",
        "\n",
        "  dAL = -(np.divide(Y, AL) - np.divide(1 - Y, 1 - AL))\n",
        "  fp = nn[L].Ap\n",
        "  dZ = dAL*fp\n",
        "  m_ = 1/np.shape(Y)[0]\n",
        "\n",
        "  dW_L = m_*dZ@nn[L-1].Ap.T\n",
        "  db_L = m_*np.sum(dZ, axis=1, keepdims=True)\n",
        "\n",
        "  nn[L].dW=dW_L\n",
        "  nn[L].db=db_L\n",
        "\n",
        "  for l in reversed(range(1,L)):\n",
        "    dAL_1 = dAL\n",
        "    fp = nn[l].Ap\n",
        "    dZ_1 = dAL_1*fp\n",
        "    dW_L1 = m_*dZ_1@nn[l-1].Ap.T\n",
        "    db_L1 = m_*np.sum(dZ_1, axis=1, keepdims=True)\n",
        "\n",
        "    dAL=dAL_1\n",
        "\n",
        "    nn[l].dW=dW_L1\n",
        "    nn[l].db=db_L1\n",
        "\n",
        "  return nn\n",
        "\n",
        "def update_params(nn, learning_rate):\n",
        "  L=len(nn)\n",
        "  for l in range(1, L):\n",
        "    nn[l].W = nn[l].W - learning_rate*nn[l].dW.T\n",
        "    nn[l].B = nn[l].B - learning_rate*nn[l].db\n",
        "  return nn\n",
        "\n",
        "def red_neuronal(topology, act_fn):\n",
        "  nn_red = []\n",
        "  L = len(topology)\n",
        "  for i in range(1, L):\n",
        "    nn_red.append(layer_nn(act_fn[i],topology[i],topology[i-1] ) )\n",
        "  return nn_red"
      ],
      "metadata": {
        "id": "BXhvxexplMyz"
      },
      "execution_count": 94,
      "outputs": []
    },
    {
      "cell_type": "code",
      "source": [
        "import pandas as pd\n",
        "import scipy as sc\n",
        "import numpy as np\n",
        "import h5py\n",
        "import matplotlib.pylab as plt"
      ],
      "metadata": {
        "id": "CgLSLucu_-GK"
      },
      "execution_count": 78,
      "outputs": []
    },
    {
      "cell_type": "code",
      "source": [
        "# Read the data\n",
        "data_train= \"/content/train_catvnoncat.h5\"\n",
        "train_dataset = h5py.File(data_train, \"r\")\n",
        "\n",
        "data_test= \"/content/test_catvnoncat.h5\"\n",
        "test_dataset = h5py.File(data_test, \"r\")\n",
        "\n",
        "xtrain_classes, xtrain, train_label = train_dataset[\"list_classes\"],train_dataset[\"train_set_x\"],train_dataset[\"train_set_y\"]\n",
        "\n",
        "test_classes, xtest,test_label = test_dataset[\"list_classes\"],test_dataset[\"test_set_x\"],test_dataset[\"test_set_y\"]\n",
        "\n",
        "print(np.shape(xtrain))\n",
        "xtrain_= np.reshape(xtrain,(209, 64*64*3))/255\n",
        "xtest_ = np.reshape(xtest,(50, 64*64*3))/255\n",
        "print(np.shape(xtrain_))\n",
        "\n",
        "topology = [n, 3, 4, 6 ,1]\n",
        "act_fn   = [None,\"relu\", \"relu\", \"relu\", \"sigmoid\" ]\n",
        "nn_red = red_neuronal(topology, act_fn)"
      ],
      "metadata": {
        "id": "whA3LB5KAC5Y",
        "colab": {
          "base_uri": "https://localhost:8080/"
        },
        "outputId": "81c8a74d-fa87-4f32-cf4b-737ff28f2efd"
      },
      "execution_count": 119,
      "outputs": [
        {
          "output_type": "stream",
          "name": "stdout",
          "text": [
            "(209, 64, 64, 3)\n",
            "(209, 12288)\n"
          ]
        }
      ]
    },
    {
      "cell_type": "code",
      "source": [
        "A0 = xtrain_.T\n",
        "Y = np.array(train_label)\n",
        "\n",
        "A, nn = forward_pass(A0, nn_red)\n",
        "J = cost_Function(A, np.array(train_label))\n",
        "j = []\n",
        "j.append(J)\n",
        "\n",
        "for i in range(1,100):\n",
        "\n",
        "  nn = backward_propagation(A, Y, nn)\n",
        "  nn = update_params(nn, 0.002)\n",
        "  A, nn = forward_pass(A0, nn)\n",
        "\n",
        "  J = cost_Function(A, np.array(train_label))\n",
        "  j.append(J)\n",
        "\n",
        "plt.plot(j,\"-*\")\n",
        "plt.ylabel(\"Cost Function\")\n",
        "plt.xlabel(\"X\")\n",
        "plt.show()\n"
      ],
      "metadata": {
        "colab": {
          "base_uri": "https://localhost:8080/",
          "height": 449
        },
        "id": "5-RBZAXjAKJD",
        "outputId": "5dfb8264-9661-4324-ee84-2894e8a1f12d"
      },
      "execution_count": 120,
      "outputs": [
        {
          "output_type": "display_data",
          "data": {
            "text/plain": [
              "<Figure size 640x480 with 1 Axes>"
            ],
            "image/png": "[encoded data removed]"
          },
          "metadata": {}
        }
      ]
    },
    {
      "cell_type": "code",
      "source": [
        "A0 = xtest_.T\n",
        "Y = np.array(train_label)\n",
        "A, nn = forward_pass(A0, nn)\n",
        "A"
      ],
      "metadata": {
        "colab": {
          "base_uri": "https://localhost:8080/"
        },
        "id": "Xgf9rDt9AM-j",
        "outputId": "8411d756-51a5-4097-98f3-dae1c1598fa0"
      },
      "execution_count": 121,
      "outputs": [
        {
          "output_type": "execute_result",
          "data": {
            "text/plain": [
              "array([[0.41134531, 0.51045821, 0.41134531, 0.38519283, 0.41134531,\n",
              "        0.47409698, 0.45599493, 0.38519283, 0.41134531, 0.48317661,\n",
              "        0.39384491, 0.1889375 , 0.41134531, 0.51045821, 0.39384491,\n",
              "        0.42018335, 0.38519283, 0.46503444, 0.21962759, 0.44698432,\n",
              "        0.46503444, 0.42018335, 0.42018335, 0.47409698, 0.39384491,\n",
              "        0.39384491, 0.45599493, 0.46503444, 0.42018335, 0.38519283,\n",
              "        0.38519283, 0.40256409, 0.38519283, 0.40256409, 0.39384491,\n",
              "        0.42907288, 0.41134531, 0.42018335, 0.39384491, 0.49226737,\n",
              "        0.41134531, 0.44698432, 0.41134531, 0.41134531, 0.41134531,\n",
              "        0.42018335, 0.41134531, 0.38519283, 0.47409698, 0.47409698]])"
            ]
          },
          "metadata": {},
          "execution_count": 121
        }
      ]
    },
    {
      "cell_type": "code",
      "source": [],
      "metadata": {
        "id": "se1h_SdKGm1q"
      },
      "execution_count": null,
      "outputs": []
    }
  ],
  "metadata": {
    "colab": {
      "provenance": []
    },
    "kernelspec": {
      "display_name": "Python 3 (ipykernel)",
      "language": "python",
      "name": "python3"
    },
    "language_info": {
      "codemirror_mode": {
        "name": "ipython",
        "version": 3
      },
      "file_extension": ".py",
      "mimetype": "text/x-python",
      "name": "python",
      "nbconvert_exporter": "python",
      "pygments_lexer": "ipython3",
      "version": "3.10.9"
    }
  },
  "nbformat": 4,
  "nbformat_minor": 0
}